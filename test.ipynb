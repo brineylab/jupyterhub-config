{
 "cells": [
  {
   "cell_type": "code",
   "execution_count": 1,
   "metadata": {},
   "outputs": [],
   "source": [
    "import yaml"
   ]
  },
  {
   "cell_type": "code",
   "execution_count": 2,
   "metadata": {},
   "outputs": [],
   "source": [
    "with open(\"./dev/extra_config/nodes.yaml\", \"r\") as file:\n",
    "  node_info = yaml.safe_load(file)\n"
   ]
  },
  {
   "cell_type": "code",
   "execution_count": 3,
   "metadata": {},
   "outputs": [
    {
     "data": {
      "text/plain": [
       "[{'node': 'thor',\n",
       "  'gpu_type': '3090',\n",
       "  'num_gpus': 2,\n",
       "  'cpu_threads': 128,\n",
       "  'gb_memory': 256},\n",
       " {'node': 'rym',\n",
       "  'gpu_type': '3090',\n",
       "  'num_gpus': 2,\n",
       "  'cpu_threads': 16,\n",
       "  'gb_memory': 16},\n",
       " {'node': 'atli',\n",
       "  'gpu_type': 'L40S',\n",
       "  'num_gpus': 2,\n",
       "  'cpu_threads': 16,\n",
       "  'gb_memory': 16}]"
      ]
     },
     "execution_count": 3,
     "metadata": {},
     "output_type": "execute_result"
    }
   ],
   "source": [
    "node_info['nodes']"
   ]
  },
  {
   "cell_type": "code",
   "execution_count": 4,
   "metadata": {},
   "outputs": [],
   "source": [
    "CONFIG = {\n",
    "  \"images\": {\n",
    "      \"datascience\": \"brineylab/jupyterhub-datascience:v2024-08-13\",\n",
    "      \"deeplearning\": \"brineylab/jupyterhub-deeplearning:v2024-08-13\",\n",
    "  },\n",
    "  \"gpu_counts\": [1, 2, 4, 8],\n",
    "  \"node_info\": node_info['nodes']\n",
    "}"
   ]
  },
  {
   "cell_type": "code",
   "execution_count": 5,
   "metadata": {},
   "outputs": [],
   "source": [
    "def _define_images(CONFIG):\n",
    "      \"\"\"Define the images for users, based on CONFIG\"\"\"\n",
    "      return {\n",
    "        \"Image\": {\n",
    "          \"display_name\": \"Image\",\n",
    "          \"choices\": {\n",
    "              name: {\n",
    "                  \"display_name\": name,\n",
    "                  \"default\": (name == \"datascience\"),\n",
    "                  \"kubespawner_override\": {\"image\": url},\n",
    "              } for name, url in CONFIG[\"images\"].items()\n",
    "          },\n",
    "          \"unlisted_choice\": {\n",
    "            \"enabled\": True,\n",
    "            \"display_name\": \"Enter custom image\",\n",
    "            \"display_name_in_choices\": \"other - select to provide a custom image\",\n",
    "            \"validation_regex\": '^.+/.+:.+$',\n",
    "            \"validation_message\": 'Must be an image matching <user>/<name>:<tag>',\n",
    "            \"kubespawner_override\": {\n",
    "              \"image\": \"{value}\",\n",
    "              \"start_timeout\": 600, # increase timeout to allow new images to be pulled\n",
    "            },\n",
    "          },\n",
    "        }\n",
    "      }"
   ]
  },
  {
   "cell_type": "code",
   "execution_count": 6,
   "metadata": {},
   "outputs": [],
   "source": [
    "res = {\n",
    "  \"display_name\": \"CPU Server\",\n",
    "  \"description\": \"Choose your image. <br> Datascience: default data analysis environment, including interpreters for Python and R. <br> Deeplearning: extends the data science environment to include ML libraries (such as torch, deepspeed, and 🤗).\",\n",
    "  \"profile_options\": {\n",
    "    **_define_images(CONFIG),\n",
    "  },\n",
    "  \"kubespawner_override\": {\n",
    "    \"node_selector\": {\"node_profile\": \"cpu\"},\n",
    "  }\n",
    "}\n"
   ]
  },
  {
   "cell_type": "code",
   "execution_count": 7,
   "metadata": {},
   "outputs": [
    {
     "data": {
      "text/plain": [
       "{'display_name': 'CPU Server',\n",
       " 'description': 'Choose your image. <br> Datascience: default data analysis environment, including interpreters for Python and R. <br> Deeplearning: extends the data science environment to include ML libraries (such as torch, deepspeed, and 🤗).',\n",
       " 'profile_options': {'Image': {'display_name': 'Image',\n",
       "   'choices': {'datascience': {'display_name': 'datascience',\n",
       "     'default': True,\n",
       "     'kubespawner_override': {'image': 'brineylab/jupyterhub-datascience:v2024-08-13'}},\n",
       "    'deeplearning': {'display_name': 'deeplearning',\n",
       "     'default': False,\n",
       "     'kubespawner_override': {'image': 'brineylab/jupyterhub-deeplearning:v2024-08-13'}}},\n",
       "   'unlisted_choice': {'enabled': True,\n",
       "    'display_name': 'Enter custom image',\n",
       "    'display_name_in_choices': 'other - select to provide a custom image',\n",
       "    'validation_regex': '^.+/.+:.+$',\n",
       "    'validation_message': 'Must be an image matching <user>/<name>:<tag>',\n",
       "    'kubespawner_override': {'image': '{value}', 'start_timeout': 600}}}},\n",
       " 'kubespawner_override': {'node_selector': {'node_profile': 'cpu'}}}"
      ]
     },
     "execution_count": 7,
     "metadata": {},
     "output_type": "execute_result"
    }
   ],
   "source": [
    "res"
   ]
  },
  {
   "cell_type": "code",
   "execution_count": 8,
   "metadata": {},
   "outputs": [],
   "source": [
    "def _define_num_gpus(CONFIG):\n",
    "  \"\"\"Define number of gpus for users, based on CONFIG\"\"\"\n",
    "  return {\n",
    "    \"GPUNum\": {\n",
    "      \"display_name\": \"Number of GPUs\",\n",
    "      \"choices\": {\n",
    "        str(i): {\n",
    "          \"display_name\": str(i),\n",
    "          # config required to enable gpu: https://discourse.jupyter.org/t/set-runtimeclassname-for-gpu-enabled-images/21617/5\n",
    "          \"kubespawner_override\": {\n",
    "            \"extra_resource_limits\": {\"nvidia.com/gpu\": i},\n",
    "            \"extra_pod_config\": {\"runtimeClassName\": \"nvidia\"},\n",
    "          } if i > 0 else {},\n",
    "        } for i in CONFIG[\"gpu_counts\"]\n",
    "      },\n",
    "    }\n",
    "  }\n",
    "    \n",
    "def _define_gpu_nodes(CONFIG):\n",
    "  \"\"\"Define node choices, based on CONFIG\"\"\"\n",
    "  return {\n",
    "    \"Node\": {\n",
    "      \"display_name\": \"Node\",\n",
    "      \"choices\": {\n",
    "        str(node[\"node\"]): { \n",
    "          \"display_name\": str(node[\"node\"]),\n",
    "          \"kubespawner_override\": {\n",
    "              \"node_selector\": {\"kubernetes.io/hostname\": str(node[\"node\"])},\n",
    "          },\n",
    "        }\n",
    "        for node in CONFIG[\"node_info\"] if \"node\" in node\n",
    "      },\n",
    "    }\n",
    "  }"
   ]
  },
  {
   "cell_type": "code",
   "execution_count": 9,
   "metadata": {},
   "outputs": [],
   "source": [
    "res = {\n",
    "  \"display_name\": \"GPU Server\",\n",
    "  \"description\": \"Choose your image, node and number of GPUs.\",\n",
    "  \"profile_options\": {\n",
    "    **_define_images(CONFIG),\n",
    "    **_define_gpu_nodes(CONFIG),\n",
    "    **_define_num_gpus(CONFIG),\n",
    "  },\n",
    "}"
   ]
  },
  {
   "cell_type": "code",
   "execution_count": 10,
   "metadata": {},
   "outputs": [
    {
     "data": {
      "text/plain": [
       "{'display_name': 'GPU Server',\n",
       " 'description': 'Choose your image, node and number of GPUs.',\n",
       " 'profile_options': {'Image': {'display_name': 'Image',\n",
       "   'choices': {'datascience': {'display_name': 'datascience',\n",
       "     'default': True,\n",
       "     'kubespawner_override': {'image': 'brineylab/jupyterhub-datascience:v2024-08-13'}},\n",
       "    'deeplearning': {'display_name': 'deeplearning',\n",
       "     'default': False,\n",
       "     'kubespawner_override': {'image': 'brineylab/jupyterhub-deeplearning:v2024-08-13'}}},\n",
       "   'unlisted_choice': {'enabled': True,\n",
       "    'display_name': 'Enter custom image',\n",
       "    'display_name_in_choices': 'other - select to provide a custom image',\n",
       "    'validation_regex': '^.+/.+:.+$',\n",
       "    'validation_message': 'Must be an image matching <user>/<name>:<tag>',\n",
       "    'kubespawner_override': {'image': '{value}', 'start_timeout': 600}}},\n",
       "  'Node': {'display_name': 'Node',\n",
       "   'choices': {'thor': {'display_name': 'thor',\n",
       "     'kubespawner_override': {'node_selector': {'kubernetes.io/hostname': 'thor'}}},\n",
       "    'rym': {'display_name': 'rym',\n",
       "     'kubespawner_override': {'node_selector': {'kubernetes.io/hostname': 'rym'}}},\n",
       "    'atli': {'display_name': 'atli',\n",
       "     'kubespawner_override': {'node_selector': {'kubernetes.io/hostname': 'atli'}}}}},\n",
       "  'GPUNum': {'display_name': 'Number of GPUs',\n",
       "   'choices': {'1': {'display_name': '1',\n",
       "     'kubespawner_override': {'extra_resource_limits': {'nvidia.com/gpu': 1},\n",
       "      'extra_pod_config': {'runtimeClassName': 'nvidia'}}},\n",
       "    '2': {'display_name': '2',\n",
       "     'kubespawner_override': {'extra_resource_limits': {'nvidia.com/gpu': 2},\n",
       "      'extra_pod_config': {'runtimeClassName': 'nvidia'}}},\n",
       "    '4': {'display_name': '4',\n",
       "     'kubespawner_override': {'extra_resource_limits': {'nvidia.com/gpu': 4},\n",
       "      'extra_pod_config': {'runtimeClassName': 'nvidia'}}},\n",
       "    '8': {'display_name': '8',\n",
       "     'kubespawner_override': {'extra_resource_limits': {'nvidia.com/gpu': 8},\n",
       "      'extra_pod_config': {'runtimeClassName': 'nvidia'}}}}}}}"
      ]
     },
     "execution_count": 10,
     "metadata": {},
     "output_type": "execute_result"
    }
   ],
   "source": [
    "res"
   ]
  },
  {
   "cell_type": "code",
   "execution_count": null,
   "metadata": {},
   "outputs": [],
   "source": []
  }
 ],
 "metadata": {
  "kernelspec": {
   "display_name": "base",
   "language": "python",
   "name": "python3"
  },
  "language_info": {
   "codemirror_mode": {
    "name": "ipython",
    "version": 3
   },
   "file_extension": ".py",
   "mimetype": "text/x-python",
   "name": "python",
   "nbconvert_exporter": "python",
   "pygments_lexer": "ipython3",
   "version": "3.10.14"
  }
 },
 "nbformat": 4,
 "nbformat_minor": 2
}
